{
 "cells": [
  {
   "cell_type": "markdown",
   "id": "af149bc8-3384-426c-8ec0-761e5899079c",
   "metadata": {},
   "source": [
    "# Matrix Operations"
   ]
  },
  {
   "cell_type": "code",
   "execution_count": 1,
   "id": "7c808138-c582-4f05-8b7b-81ed0631531c",
   "metadata": {},
   "outputs": [],
   "source": [
    "import numpy as np"
   ]
  },
  {
   "cell_type": "markdown",
   "id": "87d1c79a-77fc-4f2e-9c6f-c1873b523cf1",
   "metadata": {},
   "source": [
    "## Transpose\n",
    "$C = A^{T}$"
   ]
  },
  {
   "cell_type": "code",
   "execution_count": 2,
   "id": "f9d413b3-a7c7-4d87-9644-d59bfa40a9ea",
   "metadata": {},
   "outputs": [
    {
     "name": "stdout",
     "output_type": "stream",
     "text": [
      "[[1 2]\n",
      " [3 4]\n",
      " [5 6]]\n",
      "[[1 3 5]\n",
      " [2 4 6]]\n"
     ]
    }
   ],
   "source": [
    "# define matrix\n",
    "A = np.array([\n",
    "[1, 2],\n",
    "[3, 4],\n",
    "[5, 6]])\n",
    "print(A)\n",
    "\n",
    "# calculate transpose\n",
    "C = A.T\n",
    "print(C)"
   ]
  },
  {
   "cell_type": "markdown",
   "id": "2b38bdf3-88b1-4900-89e2-8e1ff60eea0d",
   "metadata": {},
   "source": [
    "## Inverse\n",
    "$AB = BA = I^{n}$"
   ]
  },
  {
   "cell_type": "code",
   "execution_count": 3,
   "id": "5dc0354e-1ae2-44b1-a4fd-6c0f2fd06d73",
   "metadata": {},
   "outputs": [
    {
     "name": "stdout",
     "output_type": "stream",
     "text": [
      "[[1. 2.]\n",
      " [3. 4.]]\n",
      "[[-2.   1. ]\n",
      " [ 1.5 -0.5]]\n",
      "[[1.00000000e+00 1.11022302e-16]\n",
      " [0.00000000e+00 1.00000000e+00]]\n"
     ]
    }
   ],
   "source": [
    "# define matrix\n",
    "A = np.array([\n",
    "[1.0, 2.0],\n",
    "[3.0, 4.0]])\n",
    "print(A)\n",
    "\n",
    "# invert matrix\n",
    "B = np.linalg.inv(A)\n",
    "print(B)\n",
    "\n",
    "# multiply A and B\n",
    "I = A.dot(B)\n",
    "print(I)"
   ]
  },
  {
   "cell_type": "markdown",
   "id": "b80f4858-cc1f-460f-92eb-f83089b47697",
   "metadata": {},
   "source": [
    "## Trace\n",
    "\n",
    "3x3 Matrix\n",
    "\n",
    "$tr(A) = a_{1,1} + a_{2,2} + a_{3,3}$"
   ]
  },
  {
   "cell_type": "code",
   "execution_count": 4,
   "id": "3c71dc73-5037-4aee-b082-6fc5283312b7",
   "metadata": {},
   "outputs": [
    {
     "name": "stdout",
     "output_type": "stream",
     "text": [
      "[[1 2 3]\n",
      " [4 5 6]\n",
      " [7 8 9]]\n",
      "15\n"
     ]
    }
   ],
   "source": [
    "# define matrix\n",
    "A = np.array([\n",
    "[1, 2, 3],\n",
    "[4, 5, 6],\n",
    "[7, 8, 9]])\n",
    "print(A)\n",
    "\n",
    "# calculate trace\n",
    "B = np.trace(A)\n",
    "print(B)"
   ]
  },
  {
   "cell_type": "markdown",
   "id": "660fdfe6-4e98-4e79-8bba-ad2429033782",
   "metadata": {},
   "source": [
    "## Determinant\n",
    "$det(A)$"
   ]
  },
  {
   "cell_type": "code",
   "execution_count": 5,
   "id": "6acfa74c-6bbe-47d2-973f-625eeb3fa0c3",
   "metadata": {},
   "outputs": [
    {
     "name": "stdout",
     "output_type": "stream",
     "text": [
      "[[9 3 2]\n",
      " [1 3 7]\n",
      " [4 8 6]]\n",
      "-284.0000000000003\n"
     ]
    }
   ],
   "source": [
    "# define matrix\n",
    "A = np.array([\n",
    "[9, 3, 2],\n",
    "[1, 3, 7],\n",
    "[4, 8, 6]])\n",
    "print(A)\n",
    "\n",
    "# calculate determinant\n",
    "B = np.linalg.det(A)\n",
    "print(B)"
   ]
  },
  {
   "cell_type": "code",
   "execution_count": 6,
   "id": "91e1bab3-a311-43d1-97c3-2e0ecf78bdbe",
   "metadata": {},
   "outputs": [
    {
     "name": "stdout",
     "output_type": "stream",
     "text": [
      "[[9 3 2 1]\n",
      " [4 5 6 3]\n",
      " [9 7 6 5]\n",
      " [5 4 6 7]]\n",
      "-316.00000000000006\n"
     ]
    }
   ],
   "source": [
    "# define matrix\n",
    "A = np.array([\n",
    "[9, 3, 2, 1],\n",
    "[4, 5, 6, 3],\n",
    "[9, 7, 6, 5],\n",
    "[5, 4, 6, 7]])\n",
    "print(A)\n",
    "\n",
    "# calculate determinant\n",
    "B = np.linalg.det(A)\n",
    "print(B)"
   ]
  },
  {
   "cell_type": "markdown",
   "id": "cbfef8ce-6f44-428e-95a3-2fe5039d7754",
   "metadata": {},
   "source": [
    "## Rank\n",
    "$rank(A)$"
   ]
  },
  {
   "cell_type": "code",
   "execution_count": 7,
   "id": "676be12c-406d-4de9-ae06-38c0648cd5a2",
   "metadata": {},
   "outputs": [
    {
     "name": "stdout",
     "output_type": "stream",
     "text": [
      "[1 2 3]\n",
      "1\n",
      "[0 0 0 0 0]\n",
      "0\n"
     ]
    }
   ],
   "source": [
    "# rank\n",
    "v1 = np.array([1,2,3])\n",
    "print(v1)\n",
    "vr1 = np.linalg.matrix_rank(v1)\n",
    "print(vr1)\n",
    "\n",
    "# zero rank\n",
    "v2 = np.array([0,0,0,0,0])\n",
    "print(v2)\n",
    "vr2 = np.linalg.matrix_rank(v2)\n",
    "print(vr2)"
   ]
  },
  {
   "cell_type": "code",
   "execution_count": 8,
   "id": "5ae0356d-e9c8-430a-a9f5-38408ecdbbaa",
   "metadata": {},
   "outputs": [
    {
     "name": "stdout",
     "output_type": "stream",
     "text": [
      "[[0 0]\n",
      " [0 0]]\n",
      "0\n",
      "[[1 2]\n",
      " [1 2]]\n",
      "1\n",
      "[[1 2]\n",
      " [3 4]]\n",
      "2\n"
     ]
    }
   ],
   "source": [
    "# rank 0\n",
    "M0 = np.array([\n",
    "[0,0],\n",
    "[0,0]])\n",
    "print(M0)\n",
    "mr0 = np.linalg.matrix_rank(M0)\n",
    "print(mr0)\n",
    "\n",
    "# rank 1\n",
    "M1 = np.array([\n",
    "[1,2],\n",
    "[1,2]])\n",
    "print(M1)\n",
    "mr1 = np.linalg.matrix_rank(M1)\n",
    "print(mr1)\n",
    "\n",
    "# rank 2\n",
    "M2 = np.array([\n",
    "[1,2],\n",
    "[3,4]])\n",
    "print(M2)\n",
    "mr2 = np.linalg.matrix_rank(M2)\n",
    "print(mr2)"
   ]
  },
  {
   "cell_type": "markdown",
   "id": "b704c778-49e3-4ed2-90bb-254fd1c3a006",
   "metadata": {},
   "source": [
    "<hr>"
   ]
  },
  {
   "cell_type": "markdown",
   "id": "d17f6754-fe97-4622-88bf-fc49cca047cc",
   "metadata": {},
   "source": [
    "# Sparse Matrices"
   ]
  },
  {
   "cell_type": "code",
   "execution_count": 14,
   "id": "c150eb0c-737d-483f-870b-d37437782974",
   "metadata": {},
   "outputs": [
    {
     "name": "stdout",
     "output_type": "stream",
     "text": [
      "[[1 0 0 1 0 0]\n",
      " [0 0 2 0 0 1]\n",
      " [0 0 0 2 0 0]]\n",
      "  (0, 0)\t1\n",
      "  (0, 3)\t1\n",
      "  (1, 2)\t2\n",
      "  (1, 5)\t1\n",
      "  (2, 3)\t2\n",
      "[[1 0 0 1 0 0]\n",
      " [0 0 2 0 0 1]\n",
      " [0 0 0 2 0 0]]\n"
     ]
    }
   ],
   "source": [
    "# sparse matrix\n",
    "from scipy.sparse import csr_matrix\n",
    "\n",
    "# create dense matrix\n",
    "A = np.array([\n",
    "[1, 0, 0, 1, 0, 0],\n",
    "[0, 0, 2, 0, 0, 1],\n",
    "[0, 0, 0, 2, 0, 0]])\n",
    "print(A)\n",
    "\n",
    "# convert to sparse matrix (CSR method)\n",
    "S = csr_matrix(A)\n",
    "print(S)\n",
    "\n",
    "# reconstruct dense matrix\n",
    "B = S.todense()\n",
    "print(B)"
   ]
  },
  {
   "cell_type": "code",
   "execution_count": 23,
   "id": "dd96a167-58d5-474d-87d9-81e5837b5765",
   "metadata": {},
   "outputs": [
    {
     "name": "stdout",
     "output_type": "stream",
     "text": [
      "[[1 0 0 1 0 0]\n",
      " [0 0 2 0 0 1]\n",
      " [0 0 0 2 0 0]]\n",
      "0.7222222222222222\n"
     ]
    }
   ],
   "source": [
    "# create dense matrix\n",
    "A = np.array([\n",
    "[1, 0, 0, 1, 0, 0],\n",
    "[0, 0, 2, 0, 0, 1],\n",
    "[0, 0, 0, 2, 0, 0]])\n",
    "print(A)\n",
    "\n",
    "# calculate sparsity\n",
    "sparsity = 1.0 - np.count_nonzero(A) / A.size\n",
    "print(sparsity)"
   ]
  },
  {
   "cell_type": "code",
   "execution_count": null,
   "id": "693c085d-ebf9-49ea-947f-6269ee9e9b6b",
   "metadata": {},
   "outputs": [],
   "source": []
  }
 ],
 "metadata": {
  "kernelspec": {
   "display_name": "Python 3 (ipykernel)",
   "language": "python",
   "name": "python3"
  },
  "language_info": {
   "codemirror_mode": {
    "name": "ipython",
    "version": 3
   },
   "file_extension": ".py",
   "mimetype": "text/x-python",
   "name": "python",
   "nbconvert_exporter": "python",
   "pygments_lexer": "ipython3",
   "version": "3.8.5"
  }
 },
 "nbformat": 4,
 "nbformat_minor": 5
}
